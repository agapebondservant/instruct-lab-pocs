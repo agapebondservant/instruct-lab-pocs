{
 "cells": [
  {
   "cell_type": "markdown",
   "metadata": {
    "id": "b0DO2AryfwGK"
   },
   "source": [
    "## Analyzing service tickets with Agentic Workflows\n",
    "<link rel=\"stylesheet\"\n",
    "href=\"https://stackpath.bootstrapcdn.com/bootstrap/4.5.2/css/bootstrap.min.css\"\n",
    "integrity=\"sha384-JcKb8q3iqJ61gNV9KGb8thSsNjpSL0n8PARn9HuZOnIxN0hoP+VmmDGMN5t9UJ0Z\"\n",
    "crossorigin=\"anonymous\">\n",
    "<div class=\"bg-info\">\n",
    "<h3>What are agentic workflows?</h3>\n",
    "</div>\n",
    "\n",
    "An <b>agentic workflow</b> is a multi-step sequence of tasks or decisions whose orchestration is handled by AI agents. In Generative AI, AI agents are Large Language Models (or \"Large Action Models\" in this context) that can perform goal-oriented tasks with minimal human intervention. Such tasks may include everything from simple reasoning tasks to complex decision making, and often involve interaction with external resources or systems (called \"tools\").\n",
    "\n",
    "The following will build an agentic workflow for analyzing service tickets. The initial version of the workflow will consist of the following steps:\n",
    "\n",
    "\n",
    "1.   An **analyzer** agent which will analyze the service tickets and provide comprehensive guidance for handling the service tickets.\n",
    "2.   A **searcher** agent (LLM + search tool) which will search the web for supporting links based on the guidance provided by the analyzer.\n",
    "3.   A **judge** agent which will classify the level of severity of the service ticket based on feedback from the analyzer.\n",
    "\n",
    "\n",
    "\n",
    "<div class=\"bg-info\">\n",
    "<h3>What is the difference between an agentic framework and an agentic orchestration framework?</h3>\n",
    "</div>\n",
    "\n",
    "There are different schools of thought about agentic orchestration frameworks.\n",
    "\n",
    "Agentic orchestration can refer to <b>agent-of-agent</b> systems, which are defined based on the number of agents. In this case, they are simply agentic systems that consist of more than a single agent. Hence, it can refer to agentic systems with multiple agents; it can also refer to agentic systems that invoke other agentic systems.\n",
    "\n",
    "Sometimes, agentic orchestration can also be used to distinguish complex multi-agent systems from simpler agentic systems. In this case, agentic orchestration is only necessary for systems with high levels of complexity. This is based on not just the number of agents, but other factors such as the types of flows (directed versus cyclic).\n",
    "\n",
    "There are many frameworks that can be used for building agentic workflows. Due to their reasoning and decision-making abilities, LLMs are a natural fit for driving autonomous workflows. However, users often want the ability to extend, constrain or even override aspects of the flow. For example, they may need a way to dynamically limit cycles, manage state across disparate tools, or integrate human-in-the-loop fedback. A popular approach is to use <b>LLM orchestration</b> frameworks. These are frameworks that combine the flexible and dynamic capabilities of agent-driven workflows with low-level control over essential details of the orchestration. This notebook uses <b>LangChain</b> to build the AI agents, and <b>LangGraph</b> to build the agentic workflow that orchestrates the agents.\n",
    "\n",
    "<div class=\"bg-info\">\n",
    "<h3>Workflow Summary</h3>\n",
    "</div>\n",
    "\n",
    "Steps of the Log Analyzer:\n",
    "- <i>Analyzer</i> agent receives the sevice ticket to be interpreted and generates a comprehensive analysis of the ticket.\n",
    "  - The workflow sends the analysis to the Searcher agent.\n",
    "- <i>Searcher</i> agent receives the article writing request from the user and executes a web search request. It is a tool-based agent, so it uses a tool for its search (indicated by tools in the diagram. The tool it uses is called Tavily - Tavily is a search engine agentic tool.)\n",
    "  - If it receives a tool invocation request, the workflow sends the request to the Tool Node (Tavily)\n",
    "  - Else, the workflow sends the search results back to the Analyzer agent.\n",
    "- <i>Analyzer</i> agent receives the results from the Searcher agent and determines whether or not they should be flagged for critical issues.\n",
    "  - If critical issues need to be addressed, the analyzer handles the ticket as critical (in this case, it simply outputs a warning).\n",
    "  - Else, the workflow sends the analyzer's feedback to the Judge agent.\n",
    "- <i>Judge</i> agent receives the feedback from the Analyzer agent and determines the level of serverity of the ticket.\n",
    "  - The judge classifies the ticket as HIGH, MEDIUM or LOW risk.\n",
    "  - The workflow ends."
   ]
  },
  {
   "cell_type": "markdown",
   "metadata": {
    "id": "NBqxqZJ5dR8Y"
   },
   "source": [
    "# Setup"
   ]
  },
  {
   "cell_type": "code",
   "execution_count": 277,
   "metadata": {
    "id": "XynJQl3jsZSe"
   },
   "outputs": [],
   "source": [
    "# Import libraries\n",
    "from typing import TypedDict, Literal\n",
    "import json\n",
    "import random\n",
    "from langgraph.graph import END, StateGraph\n",
    "from IPython.display import Image, display\n",
    "from langchain_core.runnables.graph import CurveStyle, MermaidDrawMethod\n",
    "from langchain_core.messages import HumanMessage\n",
    "import os\n",
    "from typing import Annotated, Literal, TypedDict\n",
    "from langgraph.graph.message import add_messages\n",
    "from langchain_community.tools.tavily_search import TavilySearchResults\n",
    "from langchain_core.prompts import ChatPromptTemplate, MessagesPlaceholder\n",
    "from langchain_openai import ChatOpenAI\n",
    "import functools\n",
    "from langgraph.prebuilt import ToolNode\n",
    "from langgraph.prebuilt import create_react_agent\n",
    "from langgraph.checkpoint.memory import MemorySaver\n",
    "from langchain.text_splitter import RecursiveCharacterTextSplitter\n",
    "import time\n",
    "from ipywidgets import FileUpload, Button, Output\n",
    "from IPython.display import display\n",
    "import codecs"
   ]
  },
  {
   "cell_type": "markdown",
   "metadata": {
    "id": "CtrqsCjqn6X6"
   },
   "source": [
    "## Defining Templates\n",
    "Each agent has its own specific **template**. The templates are defined here."
   ]
  },
  {
   "cell_type": "code",
   "execution_count": 278,
   "metadata": {
    "id": "wVN2oUbUn5J7"
   },
   "outputs": [],
   "source": [
    "analyst_template = \"\"\"\n",
    "Your job is to act as an intelligent system analyst. Please provide a comprehensive analysis of the service ticket provided in the request. Include a brief summary about whether this service ticket should be treated as a critical issue by the operations team\n",
    "\n",
    "Start with this line: FROM ANALYST\n",
    "\n",
    "NOTE: Do not write the analysis until you receive links from the searcher node.\n",
    "If you have not yet received links from the searcher node, forward your analysis to the searcher node.\n",
    "Otherwise, only if you did receive links from the searcher node and re-write the analysis with the links from the searcher node, and say ### NEXT.\n",
    "\"\"\"\n",
    "\n",
    "searcher_template = \"\"\"\n",
    "Your job is to search the web for links that would be relevant for generating the analysis described by the analyst node.\n",
    "\n",
    "NOTE: Do not write the analysis. Just search the web for related links if needed, and forward it to the analyst node.\n",
    "\n",
    "Use this format:\n",
    "### FROM SEARCHER:\n",
    "<search results>\n",
    "\"\"\"\n",
    "\n",
    "judge_template = \"\"\"\n",
    "Your job is to receive the log analysis from the analyst node and provide your classification of the severity as HIGH, MODERATE or LOW.\n",
    "Use your best judgement as a system operator to determine the level of severity of the service ticket analysis. Do not provide any additional explanation for your classification.\n",
    "\n",
    "Use this format:\n",
    "\n",
    "### FROM JUDGE:\n",
    "### Level of severity: \n",
    "# <classification>\n",
    "\n",
    "\n",
    "When finished, say #### DONE\n",
    "\"\"\""
   ]
  },
  {
   "cell_type": "markdown",
   "metadata": {
    "id": "-HnyBupj2ciz"
   },
   "source": [
    "## Defining State\n",
    "Here, we will define our **GraphState**, as well as the **nodes** and **edges** that our graph is comprised of. This will encapsulate **state** in our agentic workflows."
   ]
  },
  {
   "cell_type": "code",
   "execution_count": 279,
   "metadata": {
    "id": "Tvdvlt-I13r4"
   },
   "outputs": [],
   "source": [
    "#####################################\n",
    "## STATE ##\n",
    "#####################################\n",
    "class NMAgentState(TypedDict):\n",
    "  \"\"\"\n",
    "  Encapsulates state in our agentic workflow\n",
    "  \"\"\"\n",
    "  messages: Annotated[list, add_messages]\n",
    "\n",
    "#####################################\n",
    "## TOOLS ##\n",
    "#####################################\n",
    "google_search_tool = TavilySearchResults(max_results=5, include_answer=True, include_raw_content=True, include_images=True,)\n",
    "\n",
    "#####################################\n",
    "## AGENTS ##\n",
    "#####################################\n",
    "\"\"\"\n",
    "The LLMs used by the agents\n",
    "\"\"\"\n",
    "granite_llm = ChatOpenAI(temperature=0,\n",
    "                         model=\"granite-3-3-8b-instruct\",\n",
    "                         request_timeout=240)\n",
    "\n",
    "def create_agent(llm, tools, system_message: str):\n",
    "    \"\"\"\n",
    "    Creates an agent with the given LLM, tools, and system message\n",
    "    \"\"\"\n",
    "    prompt = ChatPromptTemplate.from_messages(\n",
    "        [\n",
    "            (\n",
    "                \"system\",\n",
    "                \"{system_message}\",\n",
    "            ),\n",
    "            MessagesPlaceholder(variable_name=\"messages\"),\n",
    "        ]\n",
    "    )\n",
    "    prompt = prompt.partial(system_message=system_message)\n",
    "    if tools:\n",
    "      return prompt | llm.bind_tools(tools)\n",
    "    else:\n",
    "      return prompt | llm\n",
    "\n",
    "searcher_agent = create_agent(granite_llm, [google_search_tool], searcher_template)\n",
    "analyst_agent = create_agent(granite_llm, [], analyst_template)\n",
    "judge_agent = create_agent(granite_llm, [], judge_template)\n",
    "\n",
    "#####################################\n",
    "## NODES ##\n",
    "#####################################\n",
    "def agent_node(state, agent, name):\n",
    "  result = agent.invoke(state)\n",
    "  return { \"messages\": [result] }\n",
    "\n",
    "searcher_node = functools.partial(agent_node, agent=searcher_agent, name=\"Search Agent\")\n",
    "analyst_node = functools.partial(agent_node, agent=analyst_agent, name=\"Analyst Agent\")\n",
    "judge_node = functools.partial(agent_node, agent=judge_agent, name=\"Judge Agent\")\n",
    "tool_node = ToolNode([google_search_tool])\n",
    "\n",
    "#####################################\n",
    "## EDGES ##\n",
    "#####################################\n",
    "def should_search(state) -> Literal['tools', 'analyst']:\n",
    "  if len(state['messages']) and state['messages'][-1].tool_calls:\n",
    "    return \"tools\"\n",
    "  else:\n",
    "    return \"analyst\"\n",
    "\n",
    "def should_submit(state) -> Literal['searcher', \"judge\"]:\n",
    "  if len(state['messages']) and '### NEXT' in state['messages'][-1].content:\n",
    "    return \"judge\"\n",
    "  else:\n",
    "    return \"searcher\""
   ]
  },
  {
   "cell_type": "markdown",
   "metadata": {
    "id": "i8Lk_1C-8Qzd"
   },
   "source": [
    "## Defining the Workflow Graph\n",
    "Here, we will define the workflow, which will encapsulate the state, nodes and edges defined above."
   ]
  },
  {
   "cell_type": "code",
   "execution_count": 280,
   "metadata": {
    "id": "-7R8y42I8pjP"
   },
   "outputs": [],
   "source": [
    "workflow = StateGraph(NMAgentState)\n",
    "\n",
    "# nodes\n",
    "workflow.add_node(\"searcher\", searcher_node)\n",
    "workflow.add_node(\"analyst\", analyst_node)\n",
    "workflow.add_node(\"tools\", tool_node)\n",
    "workflow.add_node(\"judge\", judge_node)\n",
    "\n",
    "# entrypoint\n",
    "workflow.set_entry_point(\"analyst\")\n",
    "\n",
    "# edges\n",
    "workflow.add_conditional_edges(\"searcher\", should_search)\n",
    "workflow.add_conditional_edges(\"analyst\", should_submit)\n",
    "workflow.add_edge(\"tools\", \"searcher\")\n",
    "workflow.add_edge(\"judge\", END)\n",
    "\n",
    "# compile the workflow into a graph\n",
    "checkpointer = MemorySaver()\n",
    "graph = workflow.compile(checkpointer=checkpointer)"
   ]
  },
  {
   "cell_type": "markdown",
   "metadata": {
    "id": "aUg7mvnN-Ors"
   },
   "source": [
    "Visualize the graph:"
   ]
  },
  {
   "cell_type": "code",
   "execution_count": 281,
   "metadata": {
    "colab": {
     "base_uri": "https://localhost:8080/",
     "height": 796
    },
    "id": "ztvmtR3S-QrM",
    "outputId": "40dae56c-8757-4428-b94b-49d2b732c12a"
   },
   "outputs": [
    {
     "data": {
      "image/png": "[encoded data removed]",
      "text/plain": [
       "<IPython.core.display.Image object>"
      ]
     },
     "execution_count": 281,
     "metadata": {},
     "output_type": "execute_result"
    }
   ],
   "source": [
    "Image(graph.get_graph().draw_mermaid_png())"
   ]
  },
  {
   "cell_type": "markdown",
   "metadata": {
    "id": "YV-oh0rL-Vs7"
   },
   "source": [
    "# Testing the workflow\n",
    "Now that the workflow has been generated, we can test it out with different files."
   ]
  },
  {
   "cell_type": "code",
   "execution_count": 282,
   "metadata": {},
   "outputs": [
    {
     "data": {
      "application/vnd.jupyter.widget-view+json": {
       "model_id": "8881092e5fb54f59b7fd22b8a4fa75a3",
       "version_major": 2,
       "version_minor": 0
      },
      "text/plain": [
       "FileUpload(value=(), description='Upload')"
      ]
     },
     "metadata": {},
     "output_type": "display_data"
    },
    {
     "name": "stdin",
     "output_type": "stream",
     "text": [
      "Select a file, then enter any key to continue: y\n"
     ]
    },
    {
     "data": {
      "application/vnd.jupyter.widget-view+json": {
       "model_id": "3b2d760bfc6f4fa4966b8d5bb1edc3fe",
       "version_major": 2,
       "version_minor": 0
      },
      "text/plain": [
       "Output()"
      ]
     },
     "metadata": {},
     "output_type": "display_data"
    }
   ],
   "source": [
    "# Display a file upload widget\n",
    "upload_widget = FileUpload(\n",
    "    accept='', \n",
    "    multiple=False,\n",
    ")\n",
    "\n",
    "upload_output = Output()\n",
    "\n",
    "display(upload_widget)\n",
    "\n",
    "upload_response=input(\"Select a file, then enter any key to continue:\")\n",
    "\n",
    "display(upload_output) \n",
    "\n",
    "# Test the workflow with prompts\n",
    "@upload_output.capture()\n",
    "def on_upload_change(change):\n",
    "    file_content= f\"\"\"{upload_widget.value[0].content.tobytes().decode(\"utf-8\")}\"\"\"\n",
    "    input_text = f\"\"\"Provide an analysis for the following service ticket:\\n\\n{file_content}\"\"\"\n",
    "    config = {\"configurable\": {\"thread_id\": 12, \"recursion_limit\": 10}}\n",
    "    try:\n",
    "      for event in graph.stream({\"messages\": [HumanMessage(content=input_text)]}, config, stream_mode=\"values\"):\n",
    "          event['messages'][-1].pretty_print()\n",
    "    except Exception as e:\n",
    "      print(f\"\\n\\nErrors generating response:\\n===============\\n {str(e)}\")\n",
    "\n",
    "upload_widget.observe(on_upload_change, names='value')"
   ]
  }
 ],
 "metadata": {
  "colab": {
   "provenance": []
  },
  "kernelspec": {
   "display_name": "Python 3 (ipykernel)",
   "language": "python",
   "name": "python3"
  },
  "language_info": {
   "codemirror_mode": {
    "name": "ipython",
    "version": 3
   },
   "file_extension": ".py",
   "mimetype": "text/x-python",
   "name": "python",
   "nbconvert_exporter": "python",
   "pygments_lexer": "ipython3",
   "version": "3.12.9"
  }
 },
 "nbformat": 4,
 "nbformat_minor": 4
}
